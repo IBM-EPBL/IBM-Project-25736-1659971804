{
  "nbformat": 4,
  "nbformat_minor": 0,
  "metadata": {
    "colab": {
      "provenance": []
    },
    "kernelspec": {
      "name": "python3",
      "display_name": "Python 3"
    },
    "language_info": {
      "name": "python"
    }
  },
  "cells": [
    {
      "cell_type": "markdown",
      "source": [
        "Loading the dataset & image data generation"
      ],
      "metadata": {
        "id": "MviaDJq0AcTI"
      }
    },
    {
      "cell_type": "code",
      "execution_count": 1,
      "metadata": {
        "id": "LF4IoZ2zUtxJ"
      },
      "outputs": [],
      "source": [
        "from tensorflow.keras.preprocessing.image import ImageDataGenerator"
      ]
    },
    {
      "cell_type": "code",
      "execution_count": 2,
      "metadata": {
        "id": "zYy0oJAlILeC"
      },
      "outputs": [],
      "source": [
        "train_datagen = ImageDataGenerator(rescale = 1/255,zoom_range= 0.3,horizontal_flip=True,vertical_flip=True)"
      ]
    },
    {
      "cell_type": "code",
      "execution_count": 3,
      "metadata": {
        "id": "iG814A61VEY5"
      },
      "outputs": [],
      "source": [
        "test_datagen = ImageDataGenerator(rescale = 1/255)"
      ]
    },
    {
      "cell_type": "code",
      "execution_count": 4,
      "metadata": {
        "colab": {
          "base_uri": "https://localhost:8080/"
        },
        "id": "eI9yJjrTMvws",
        "outputId": "3dcb1b2e-d5b3-4580-e54f-4b166f3a8173"
      },
      "outputs": [
        {
          "output_type": "stream",
          "name": "stdout",
          "text": [
            "Found 15820 images belonging to 9 classes.\n"
          ]
        }
      ],
      "source": [
        "x_train = train_datagen.flow_from_directory(r\"/content/drive/MyDrive/conversation engine for deaf and dumb/Dataset/training_set\",target_size= (64,64),class_mode= \"categorical\",batch_size= 24)"
      ]
    },
    {
      "cell_type": "code",
      "execution_count": 5,
      "metadata": {
        "colab": {
          "base_uri": "https://localhost:8080/"
        },
        "id": "uRVodWRlIfRb",
        "outputId": "0c0623d0-8b43-4fc0-e16f-64e06eba5c79"
      },
      "outputs": [
        {
          "output_type": "stream",
          "name": "stdout",
          "text": [
            "Found 2250 images belonging to 9 classes.\n"
          ]
        }
      ],
      "source": [
        "x_test = test_datagen.flow_from_directory(r\"/content/drive/MyDrive/conversation engine for deaf and dumb/Dataset/test_set\",target_size= (64,64),class_mode= \"categorical\",batch_size= 24)"
      ]
    },
    {
      "cell_type": "code",
      "execution_count": 6,
      "metadata": {
        "colab": {
          "base_uri": "https://localhost:8080/"
        },
        "id": "lcYnd7ru7q8D",
        "outputId": "13d80ad7-8078-4140-cecb-e4bfaabec132"
      },
      "outputs": [
        {
          "output_type": "stream",
          "name": "stdout",
          "text": [
            "len x-train : 660\n",
            "len x-test : 94\n"
          ]
        }
      ],
      "source": [
        "print(\"len x-train :\",len(x_train))\n",
        "print(\"len x-test :\",len(x_test))"
      ]
    },
    {
      "cell_type": "code",
      "execution_count": 7,
      "metadata": {
        "colab": {
          "base_uri": "https://localhost:8080/"
        },
        "id": "9jkh_WbX-RTV",
        "outputId": "d22c4c77-5ce7-41f2-d087-008fb44c3ac5"
      },
      "outputs": [
        {
          "output_type": "execute_result",
          "data": {
            "text/plain": [
              "{'A': 0, 'B': 1, 'C': 2, 'D': 3, 'E': 4, 'F': 5, 'G': 6, 'H': 7, 'I': 8}"
            ]
          },
          "metadata": {},
          "execution_count": 7
        }
      ],
      "source": [
        "x_train.class_indices"
      ]
    }
  ]
}